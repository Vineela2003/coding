{
  "nbformat": 4,
  "nbformat_minor": 0,
  "metadata": {
    "colab": {
      "provenance": [],
      "authorship_tag": "ABX9TyMHkKNHL+aotwx/XMnKXlLA",
      "include_colab_link": true
    },
    "kernelspec": {
      "name": "python3",
      "display_name": "Python 3"
    },
    "language_info": {
      "name": "python"
    }
  },
  "cells": [
    {
      "cell_type": "markdown",
      "metadata": {
        "id": "view-in-github",
        "colab_type": "text"
      },
      "source": [
        "<a href=\"https://colab.research.google.com/github/Vineela2003/coding/blob/main/29082023.ipynb\" target=\"_parent\"><img src=\"https://colab.research.google.com/assets/colab-badge.svg\" alt=\"Open In Colab\"/></a>"
      ]
    },
    {
      "cell_type": "code",
      "execution_count": null,
      "metadata": {
        "colab": {
          "base_uri": "https://localhost:8080/"
        },
        "id": "tzmS8JKrAHNm",
        "outputId": "367ada69-4b2c-48a9-cea0-436ed21c21e6"
      },
      "outputs": [
        {
          "output_type": "stream",
          "name": "stdout",
          "text": [
            "Happy Number\n"
          ]
        }
      ],
      "source": [
        "n=19\n",
        "while n>5:\n",
        "  s=0\n",
        "  while n>0:\n",
        "    r=n%10\n",
        "    s=s+r**2\n",
        "    n=n//10\n",
        "  n=s\n",
        "if (s==1):\n",
        "  print(\"Happy Number\")\n",
        "else:\n",
        "  print(\"not happy\")"
      ]
    },
    {
      "cell_type": "code",
      "source": [
        "n1=\"123\"\n",
        "n2=\"11\"\n",
        "l1=int(n1)\n",
        "l2=int(n2)\n",
        "l=l1+l2\n",
        "print(str(l))"
      ],
      "metadata": {
        "colab": {
          "base_uri": "https://localhost:8080/"
        },
        "id": "Lzc9ZFYuBuoC",
        "outputId": "ec81c9c3-30ad-4234-c05f-e077e037cb18"
      },
      "execution_count": null,
      "outputs": [
        {
          "output_type": "stream",
          "name": "stdout",
          "text": [
            "134\n"
          ]
        }
      ]
    },
    {
      "cell_type": "code",
      "source": [
        "n=[0,2,3]\n",
        "k=0\n",
        "for i in range(len(n)+1):\n",
        "  if i not in n:\n",
        "    k+=i\n",
        "    print(k)"
      ],
      "metadata": {
        "colab": {
          "base_uri": "https://localhost:8080/"
        },
        "id": "tuxrlJhuCvo4",
        "outputId": "97d747d1-b7b2-4fbd-90c4-1e7bad9cb30a"
      },
      "execution_count": 12,
      "outputs": [
        {
          "output_type": "stream",
          "name": "stdout",
          "text": [
            "1\n"
          ]
        }
      ]
    }
  ]
}