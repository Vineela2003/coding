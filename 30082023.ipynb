{
  "nbformat": 4,
  "nbformat_minor": 0,
  "metadata": {
    "colab": {
      "provenance": [],
      "authorship_tag": "ABX9TyO0TvBSkf2+aevKxnNND6zu",
      "include_colab_link": true
    },
    "kernelspec": {
      "name": "python3",
      "display_name": "Python 3"
    },
    "language_info": {
      "name": "python"
    }
  },
  "cells": [
    {
      "cell_type": "markdown",
      "metadata": {
        "id": "view-in-github",
        "colab_type": "text"
      },
      "source": [
        "<a href=\"https://colab.research.google.com/github/Vineela2003/coding/blob/main/30082023.ipynb\" target=\"_parent\"><img src=\"https://colab.research.google.com/assets/colab-badge.svg\" alt=\"Open In Colab\"/></a>"
      ]
    },
    {
      "cell_type": "code",
      "execution_count": null,
      "metadata": {
        "colab": {
          "base_uri": "https://localhost:8080/"
        },
        "id": "DrCgd6iz2kVu",
        "outputId": "ca499b3a-86e2-4c47-a72d-d299fea170a9"
      },
      "outputs": [
        {
          "output_type": "stream",
          "name": "stdout",
          "text": [
            "['100', '9845', '20', '61234', '7896']\n",
            "3\n"
          ]
        }
      ],
      "source": [
        "n=[100,9845,20,61234,7896]\n",
        "k=[]\n",
        "for i in n:\n",
        "    k.append(str(i))\n",
        "print(k)\n",
        "c=0\n",
        "for i in k:\n",
        "    if len(i)%2==0:\n",
        "        c+=1\n",
        "print(c)"
      ]
    },
    {
      "cell_type": "code",
      "source": [
        "n=[2,3,4,6,6,5]\n",
        "p=set(n)\n",
        "k=[]\n",
        "for i in p:\n",
        "  k.append(int(i))\n",
        "  k.sort()\n",
        "print(k[-2])\n"
      ],
      "metadata": {
        "id": "m5OXft_d2xFi",
        "colab": {
          "base_uri": "https://localhost:8080/"
        },
        "outputId": "e04e3b7d-7624-4401-f001-baaceb1089fb"
      },
      "execution_count": 2,
      "outputs": [
        {
          "output_type": "stream",
          "name": "stdout",
          "text": [
            "5\n"
          ]
        }
      ]
    },
    {
      "cell_type": "code",
      "source": [
        "n=int(input())\n",
        "s=0\n",
        "for i in range(1,n):\n",
        "  if n%i==0:\n",
        "      s=s+1\n",
        "if s==n:\n",
        "      print(\"perfect\")\n",
        "else:\n",
        "      print(\"not perfect\")\n"
      ],
      "metadata": {
        "colab": {
          "base_uri": "https://localhost:8080/"
        },
        "id": "5IKLqMIp68_d",
        "outputId": "193b4cca-063b-432a-dc9f-3d30d64b500e"
      },
      "execution_count": 5,
      "outputs": [
        {
          "output_type": "stream",
          "name": "stdout",
          "text": [
            "68\n",
            "not perfect\n"
          ]
        }
      ]
    }
  ]
}